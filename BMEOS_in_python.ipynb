{
 "cells": [
  {
   "cell_type": "markdown",
   "metadata": {},
   "source": [
    "# Birch-Murnaghan Equation of State Fitting"
   ]
  },
  {
   "cell_type": "markdown",
   "metadata": {},
   "source": [
    "I just re-write the code that have been made before by my supervisor in Matlab into Python.  You can download the folder containing `inpVE.txt`, `BMEOS.py`, and a note in [my_Gdrive](https://drive.google.com/drive/folders/1trbXpaZkUBEubB5ekmbHlZsLWab6Y4Q_?usp=sharing). By using this code, you can fit the non linear curve of your volume vs energy data using Birch-Murnaghan Equation of State, and it will return `B0, dB0, V0, E0.txt` and a `poly-eos curve` as the output. The explanation about the code is in the below."
   ]
  },
  {
   "cell_type": "code",
   "execution_count": null,
   "metadata": {
    "collapsed": true
   },
   "outputs": [],
   "source": [
    "from pylab import *\n",
    "import scipy.optimize \n",
    "\n",
    "#Load your volume and energy data from inpVE.txt\n",
    "V=np.loadtxt(\"inpVE.txt\")[:, 0]\n",
    "E=np.loadtxt(\"inpVE.txt\")[:, 1]\n",
    "\n",
    "# second order polynomial fitting using pylab and get the coefficients (a,b c)\n",
    "p=polyfit(V,E,2)\n",
    "a=p[0]\n",
    "b=p[1]\n",
    "c=p[2]\n",
    "\n",
    "E0 = a*V0**2+b*V0+c\n",
    "V0 = -b/(2*a) # dE/dV = 0 (V0 is the minimum energy volume) -> 2*a*V0 + b = 0 -> V0=-b/2a\n",
    "B0 = 2*a*V0 # B0 = V0*(d**2E/dV**2)\n",
    "dB0 = 4\n",
    "\n",
    "x0 = [B0, dB0, V0, E0] #initial guess obtained from the second order polynomial fitting\n",
    "\n",
    "#define the Birch-Murnaghan Equation of States function\n",
    "def func_birchmur(VOL, x):\n",
    "    \n",
    "    vv= (x[2]/VOL)**(1.0/3.0)\n",
    "    E =  x[3] + 9.0/16.0*x[2]*x[0] *(vv**2-1.0)**2 * (6.0 + x[1]*(vv**2-1.0) - 4.0*vv**2)\n",
    "    \n",
    "    return E\n",
    "\n",
    "sigma= lambda x: sum((E - func_birchmur(V,x))**2) #the chi squared function\n",
    "x_final = scipy.optimize.fmin(sigma, x0) #minimized the chi squared function and return the minimum values of constants [B0, dB0, V0, E0] \n",
    "\n",
    "#plotting the polymonial and BMEOS curve and save the curve as poly-eos.png\n",
    "x_graph = np.linspace(min(V),max(V),1000)\n",
    "plot(x_graph, a*x_graph**2 + b*x_graph + c,'--',label='polinomial fitting')\n",
    "plot(x_graph, func_birchmur(x_graph, x_final), label='EOS fitting')\n",
    "plot(V, E, 'bo')\n",
    "legend(loc='best')\n",
    "savefig('poly-eos.png')\n",
    "show()\n",
    "\n",
    "#writing the \"B0_dB0_V0_E0\" text file containing the minimum value of constants\n",
    "f= open(\"B0_dB0_V0_E0.txt\",\"w+\")\n",
    "f.write('%.10f  %.10f  %.10f  %.10f \\n' %(x_final[0],x_final[1],x_final[2],x_final[3]))\n",
    "f.close()\n",
    "\n",
    "\n",
    "\n"
   ]
  },
  {
   "cell_type": "code",
   "execution_count": null,
   "metadata": {
    "collapsed": true
   },
   "outputs": [],
   "source": [
    " "
   ]
  }
 ],
 "metadata": {
  "kernelspec": {
   "display_name": "Python 2",
   "language": "python",
   "name": "python2"
  },
  "language_info": {
   "codemirror_mode": {
    "name": "ipython",
    "version": 2
   },
   "file_extension": ".py",
   "mimetype": "text/x-python",
   "name": "python",
   "nbconvert_exporter": "python",
   "pygments_lexer": "ipython2",
   "version": "2.7.11"
  }
 },
 "nbformat": 4,
 "nbformat_minor": 0
}
